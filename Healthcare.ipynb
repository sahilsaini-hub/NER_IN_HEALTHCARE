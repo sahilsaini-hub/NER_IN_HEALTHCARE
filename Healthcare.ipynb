{
  "nbformat": 4,
  "nbformat_minor": 0,
  "metadata": {
    "colab": {
      "provenance": [],
      "gpuType": "T4"
    },
    "kernelspec": {
      "name": "python3",
      "display_name": "Python 3"
    },
    "language_info": {
      "name": "python"
    },
    "accelerator": "GPU"
  },
  "cells": [
    {
      "cell_type": "code",
      "execution_count": 1,
      "metadata": {
        "id": "k5Rd9kuoGVh7"
      },
      "outputs": [],
      "source": [
        "import spacy"
      ]
    },
    {
      "cell_type": "code",
      "source": [
        "!python -m spacy download en_core_web_lg"
      ],
      "metadata": {
        "colab": {
          "base_uri": "https://localhost:8080/"
        },
        "id": "xw41wD_xGu8c",
        "outputId": "3c366fb0-7c6d-474c-8a8a-9188f0e1741b"
      },
      "execution_count": 2,
      "outputs": [
        {
          "output_type": "stream",
          "name": "stdout",
          "text": [
            "Collecting en-core-web-lg==3.8.0\n",
            "  Downloading https://github.com/explosion/spacy-models/releases/download/en_core_web_lg-3.8.0/en_core_web_lg-3.8.0-py3-none-any.whl (400.7 MB)\n",
            "\u001b[2K     \u001b[90m━━━━━━━━━━━━━━━━━━━━━━━━━━━━━━━━━━━━━━━━\u001b[0m \u001b[32m400.7/400.7 MB\u001b[0m \u001b[31m4.1 MB/s\u001b[0m eta \u001b[36m0:00:00\u001b[0m\n",
            "\u001b[?25hInstalling collected packages: en-core-web-lg\n",
            "Successfully installed en-core-web-lg-3.8.0\n",
            "\u001b[38;5;2m✔ Download and installation successful\u001b[0m\n",
            "You can now load the package via spacy.load('en_core_web_lg')\n",
            "\u001b[38;5;3m⚠ Restart to reload dependencies\u001b[0m\n",
            "If you are in a Jupyter or Colab notebook, you may need to restart Python in\n",
            "order to load all the package's dependencies. You can do this by selecting the\n",
            "'Restart kernel' or 'Restart runtime' option.\n"
          ]
        }
      ]
    },
    {
      "cell_type": "code",
      "source": [
        "nlp = spacy.load(\"en_core_web_lg\")\n",
        "nlp"
      ],
      "metadata": {
        "colab": {
          "base_uri": "https://localhost:8080/"
        },
        "id": "YhvifyLsHSZd",
        "outputId": "3bdc7989-4270-4fa5-de5b-e711618a2aa5"
      },
      "execution_count": 3,
      "outputs": [
        {
          "output_type": "execute_result",
          "data": {
            "text/plain": [
              "<spacy.lang.en.English at 0x7ec977dacf50>"
            ]
          },
          "metadata": {},
          "execution_count": 3
        }
      ]
    },
    {
      "cell_type": "code",
      "source": [
        "doc = nlp(\"Donald Trump was prisedent of USA\")"
      ],
      "metadata": {
        "id": "SH_kkQVsIDiM"
      },
      "execution_count": 4,
      "outputs": []
    },
    {
      "cell_type": "code",
      "source": [
        "doc.ents"
      ],
      "metadata": {
        "colab": {
          "base_uri": "https://localhost:8080/"
        },
        "id": "PSAvNWl3IeY0",
        "outputId": "52da35cb-9bf2-4e39-b41d-9bb5114b43c2"
      },
      "execution_count": 5,
      "outputs": [
        {
          "output_type": "execute_result",
          "data": {
            "text/plain": [
              "(Donald Trump, USA)"
            ]
          },
          "metadata": {},
          "execution_count": 5
        }
      ]
    },
    {
      "cell_type": "code",
      "source": [
        "type(doc)"
      ],
      "metadata": {
        "colab": {
          "base_uri": "https://localhost:8080/"
        },
        "id": "qWzTyunUIhh8",
        "outputId": "385cdba7-0f2a-4eba-8ebc-a8894610cad9"
      },
      "execution_count": 6,
      "outputs": [
        {
          "output_type": "execute_result",
          "data": {
            "text/plain": [
              "spacy.tokens.doc.Doc"
            ]
          },
          "metadata": {},
          "execution_count": 6
        }
      ]
    },
    {
      "cell_type": "code",
      "source": [
        "doc.ents[0], type(doc.ents[0])"
      ],
      "metadata": {
        "colab": {
          "base_uri": "https://localhost:8080/"
        },
        "id": "bwVCJ4ZlIsIh",
        "outputId": "dffee047-4e59-4245-a886-52dd86d3c6c0"
      },
      "execution_count": 7,
      "outputs": [
        {
          "output_type": "execute_result",
          "data": {
            "text/plain": [
              "(Donald Trump, spacy.tokens.span.Span)"
            ]
          },
          "metadata": {},
          "execution_count": 7
        }
      ]
    },
    {
      "cell_type": "code",
      "source": [
        "from spacy import displacy\n",
        "displacy.render(doc, style=\"ent\", jupyter=True)"
      ],
      "metadata": {
        "colab": {
          "base_uri": "https://localhost:8080/",
          "height": 52
        },
        "id": "kUbIBtDHI2J4",
        "outputId": "b402560c-0419-40df-dfd6-a6d1f550b9b3"
      },
      "execution_count": 9,
      "outputs": [
        {
          "output_type": "display_data",
          "data": {
            "text/plain": [
              "<IPython.core.display.HTML object>"
            ],
            "text/html": [
              "<span class=\"tex2jax_ignore\"><div class=\"entities\" style=\"line-height: 2.5; direction: ltr\">\n",
              "<mark class=\"entity\" style=\"background: #aa9cfc; padding: 0.45em 0.6em; margin: 0 0.25em; line-height: 1; border-radius: 0.35em;\">\n",
              "    Donald Trump\n",
              "    <span style=\"font-size: 0.8em; font-weight: bold; line-height: 1; border-radius: 0.35em; vertical-align: middle; margin-left: 0.5rem\">PERSON</span>\n",
              "</mark>\n",
              " was prisedent of \n",
              "<mark class=\"entity\" style=\"background: #feca74; padding: 0.45em 0.6em; margin: 0 0.25em; line-height: 1; border-radius: 0.35em;\">\n",
              "    USA\n",
              "    <span style=\"font-size: 0.8em; font-weight: bold; line-height: 1; border-radius: 0.35em; vertical-align: middle; margin-left: 0.5rem\">GPE</span>\n",
              "</mark>\n",
              "</div></span>"
            ]
          },
          "metadata": {}
        }
      ]
    },
    {
      "cell_type": "code",
      "source": [
        "import json\n",
        "# https://www.kaggle.com/datasets/finalepoch/medical-ner\n",
        "with open('/content/Corona2.json', 'r') as f:\n",
        "    data = json.load(f)"
      ],
      "metadata": {
        "id": "IUsy4JIBI6WB"
      },
      "execution_count": 10,
      "outputs": []
    },
    {
      "cell_type": "code",
      "source": [
        "data['examples'][0]"
      ],
      "metadata": {
        "colab": {
          "base_uri": "https://localhost:8080/"
        },
        "id": "PeS8sEAONyUd",
        "outputId": "1a068c30-0814-479f-88dd-30d2e2349681"
      },
      "execution_count": 11,
      "outputs": [
        {
          "output_type": "execute_result",
          "data": {
            "text/plain": [
              "{'id': '18c2f619-f102-452f-ab81-d26f7e283ffe',\n",
              " 'content': \"While bismuth compounds (Pepto-Bismol) decreased the number of bowel movements in those with travelers' diarrhea, they do not decrease the length of illness.[91] Anti-motility agents like loperamide are also effective at reducing the number of stools but not the duration of disease.[8] These agents should be used only if bloody diarrhea is not present.[92]\\n\\nDiosmectite, a natural aluminomagnesium silicate clay, is effective in alleviating symptoms of acute diarrhea in children,[93] and also has some effects in chronic functional diarrhea, radiation-induced diarrhea, and chemotherapy-induced diarrhea.[45] Another absorbent agent used for the treatment of mild diarrhea is kaopectate.\\n\\nRacecadotril an antisecretory medication may be used to treat diarrhea in children and adults.[86] It has better tolerability than loperamide, as it causes less constipation and flatulence.[94]\",\n",
              " 'metadata': {},\n",
              " 'annotations': [{'id': '0825a1bf-6a6e-4fa2-be77-8d104701eaed',\n",
              "   'tag_id': 'c06bd022-6ded-44a5-8d90-f17685bb85a1',\n",
              "   'end': 371,\n",
              "   'start': 360,\n",
              "   'example_id': '18c2f619-f102-452f-ab81-d26f7e283ffe',\n",
              "   'tag_name': 'Medicine',\n",
              "   'value': 'Diosmectite',\n",
              "   'correct': None,\n",
              "   'human_annotations': [{'timestamp': '2020-03-21T00:24:32.098000Z',\n",
              "     'annotator_id': 1,\n",
              "     'tagged_token_id': '0825a1bf-6a6e-4fa2-be77-8d104701eaed',\n",
              "     'name': 'Ashpat123',\n",
              "     'reason': 'exploration'}],\n",
              "   'model_annotations': []},\n",
              "  {'id': '145f62b1-bbf5-42f1-8ad5-9c7e08337bf0',\n",
              "   'tag_id': 'c06bd022-6ded-44a5-8d90-f17685bb85a1',\n",
              "   'end': 408,\n",
              "   'start': 383,\n",
              "   'example_id': '18c2f619-f102-452f-ab81-d26f7e283ffe',\n",
              "   'tag_name': 'Medicine',\n",
              "   'value': 'aluminomagnesium silicate',\n",
              "   'correct': None,\n",
              "   'human_annotations': [{'timestamp': '2020-03-21T00:24:43.692000Z',\n",
              "     'annotator_id': 1,\n",
              "     'tagged_token_id': '145f62b1-bbf5-42f1-8ad5-9c7e08337bf0',\n",
              "     'name': 'Ashpat123',\n",
              "     'reason': 'exploration'}],\n",
              "   'model_annotations': []},\n",
              "  {'id': '243efeb2-723f-4be4-933c-fbbf7e0f9903',\n",
              "   'tag_id': '03eb3e50-d4d8-4261-a60b-fa5aee5deb4a',\n",
              "   'end': 112,\n",
              "   'start': 104,\n",
              "   'example_id': '18c2f619-f102-452f-ab81-d26f7e283ffe',\n",
              "   'tag_name': 'MedicalCondition',\n",
              "   'value': 'diarrhea',\n",
              "   'correct': None,\n",
              "   'human_annotations': [{'timestamp': '2020-03-21T00:24:09.423000Z',\n",
              "     'annotator_id': 1,\n",
              "     'tagged_token_id': '243efeb2-723f-4be4-933c-fbbf7e0f9903',\n",
              "     'name': 'Ashpat123',\n",
              "     'reason': 'exploration'}],\n",
              "   'model_annotations': []},\n",
              "  {'id': '281f49d3-879a-4409-b09e-4cfae019af16',\n",
              "   'tag_id': 'c06bd022-6ded-44a5-8d90-f17685bb85a1',\n",
              "   'end': 689,\n",
              "   'start': 679,\n",
              "   'example_id': '18c2f619-f102-452f-ab81-d26f7e283ffe',\n",
              "   'tag_name': 'Medicine',\n",
              "   'value': 'kaopectate',\n",
              "   'correct': None,\n",
              "   'human_annotations': [{'timestamp': '2020-03-21T00:25:38.366000Z',\n",
              "     'annotator_id': 1,\n",
              "     'tagged_token_id': '281f49d3-879a-4409-b09e-4cfae019af16',\n",
              "     'name': 'Ashpat123',\n",
              "     'reason': 'exploration'}],\n",
              "   'model_annotations': []},\n",
              "  {'id': '32fdf9e7-63f7-442a-8e25-f08ea4ad94d5',\n",
              "   'tag_id': 'c06bd022-6ded-44a5-8d90-f17685bb85a1',\n",
              "   'end': 23,\n",
              "   'start': 6,\n",
              "   'example_id': '18c2f619-f102-452f-ab81-d26f7e283ffe',\n",
              "   'tag_name': 'Medicine',\n",
              "   'value': 'bismuth compounds',\n",
              "   'correct': None,\n",
              "   'human_annotations': [{'timestamp': '2020-03-21T00:23:46.721000Z',\n",
              "     'annotator_id': 1,\n",
              "     'tagged_token_id': '32fdf9e7-63f7-442a-8e25-f08ea4ad94d5',\n",
              "     'name': 'Ashpat123',\n",
              "     'reason': 'exploration'}],\n",
              "   'model_annotations': []},\n",
              "  {'id': '392094d2-febf-4074-a2ca-4c0082f4e5b8',\n",
              "   'tag_id': 'c06bd022-6ded-44a5-8d90-f17685bb85a1',\n",
              "   'end': 37,\n",
              "   'start': 25,\n",
              "   'example_id': '18c2f619-f102-452f-ab81-d26f7e283ffe',\n",
              "   'tag_name': 'Medicine',\n",
              "   'value': 'Pepto-Bismol',\n",
              "   'correct': None,\n",
              "   'human_annotations': [{'timestamp': '2020-03-21T00:23:58.861000Z',\n",
              "     'annotator_id': 1,\n",
              "     'tagged_token_id': '392094d2-febf-4074-a2ca-4c0082f4e5b8',\n",
              "     'name': 'Ashpat123',\n",
              "     'reason': 'exploration'}],\n",
              "   'model_annotations': []},\n",
              "  {'id': '450b8c30-cf2e-4774-96d9-58b4160bea38',\n",
              "   'tag_id': '03eb3e50-d4d8-4261-a60b-fa5aee5deb4a',\n",
              "   'end': 470,\n",
              "   'start': 461,\n",
              "   'example_id': '18c2f619-f102-452f-ab81-d26f7e283ffe',\n",
              "   'tag_name': 'MedicalCondition',\n",
              "   'value': 'diarrhea ',\n",
              "   'correct': None,\n",
              "   'human_annotations': [],\n",
              "   'model_annotations': []},\n",
              "  {'id': '6b73f683-7130-4e16-bcc2-e3cc8cf89f4d',\n",
              "   'tag_id': 'c06bd022-6ded-44a5-8d90-f17685bb85a1',\n",
              "   'end': 589,\n",
              "   'start': 577,\n",
              "   'example_id': '18c2f619-f102-452f-ab81-d26f7e283ffe',\n",
              "   'tag_name': 'Medicine',\n",
              "   'value': 'chemotherapy',\n",
              "   'correct': None,\n",
              "   'human_annotations': [{'timestamp': '2020-03-21T00:25:24.179000Z',\n",
              "     'annotator_id': 1,\n",
              "     'tagged_token_id': '6b73f683-7130-4e16-bcc2-e3cc8cf89f4d',\n",
              "     'name': 'Ashpat123',\n",
              "     'reason': 'exploration'}],\n",
              "   'model_annotations': []},\n",
              "  {'id': '74574b7f-d535-48e1-8651-2708adcfe453',\n",
              "   'tag_id': '03eb3e50-d4d8-4261-a60b-fa5aee5deb4a',\n",
              "   'end': 865,\n",
              "   'start': 853,\n",
              "   'example_id': '18c2f619-f102-452f-ab81-d26f7e283ffe',\n",
              "   'tag_name': 'MedicalCondition',\n",
              "   'value': 'constipation',\n",
              "   'correct': None,\n",
              "   'human_annotations': [{'timestamp': '2020-03-21T00:26:31.676000Z',\n",
              "     'annotator_id': 1,\n",
              "     'tagged_token_id': '74574b7f-d535-48e1-8651-2708adcfe453',\n",
              "     'name': 'Ashpat123',\n",
              "     'reason': 'exploration'}],\n",
              "   'model_annotations': []},\n",
              "  {'id': '7572ab8e-ae99-400c-b4ab-ed46fbc9f97e',\n",
              "   'tag_id': 'c06bd022-6ded-44a5-8d90-f17685bb85a1',\n",
              "   'end': 198,\n",
              "   'start': 188,\n",
              "   'example_id': '18c2f619-f102-452f-ab81-d26f7e283ffe',\n",
              "   'tag_name': 'Medicine',\n",
              "   'value': 'loperamide',\n",
              "   'correct': None,\n",
              "   'human_annotations': [{'timestamp': '2020-03-21T00:24:17.680000Z',\n",
              "     'annotator_id': 1,\n",
              "     'tagged_token_id': '7572ab8e-ae99-400c-b4ab-ed46fbc9f97e',\n",
              "     'name': 'Ashpat123',\n",
              "     'reason': 'exploration'}],\n",
              "   'model_annotations': []},\n",
              "  {'id': '800e6c6c-0bfb-4819-a25a-34f759753457',\n",
              "   'tag_id': '03eb3e50-d4d8-4261-a60b-fa5aee5deb4a',\n",
              "   'end': 762,\n",
              "   'start': 754,\n",
              "   'example_id': '18c2f619-f102-452f-ab81-d26f7e283ffe',\n",
              "   'tag_name': 'MedicalCondition',\n",
              "   'value': 'diarrhea',\n",
              "   'correct': None,\n",
              "   'human_annotations': [{'timestamp': '2020-03-21T00:26:07.368000Z',\n",
              "     'annotator_id': 1,\n",
              "     'tagged_token_id': '800e6c6c-0bfb-4819-a25a-34f759753457',\n",
              "     'name': 'Ashpat123',\n",
              "     'reason': 'exploration'}],\n",
              "   'model_annotations': []},\n",
              "  {'id': '8214556a-7584-4d9b-86cd-5e09137ad904',\n",
              "   'tag_id': '03eb3e50-d4d8-4261-a60b-fa5aee5deb4a',\n",
              "   'end': 880,\n",
              "   'start': 870,\n",
              "   'example_id': '18c2f619-f102-452f-ab81-d26f7e283ffe',\n",
              "   'tag_name': 'MedicalCondition',\n",
              "   'value': 'flatulence',\n",
              "   'correct': None,\n",
              "   'human_annotations': [{'timestamp': '2020-03-21T00:26:41.322000Z',\n",
              "     'annotator_id': 1,\n",
              "     'tagged_token_id': '8214556a-7584-4d9b-86cd-5e09137ad904',\n",
              "     'name': 'Ashpat123',\n",
              "     'reason': 'exploration'}],\n",
              "   'model_annotations': []},\n",
              "  {'id': '98968e14-6756-4174-9d3d-7abd58b3aa34',\n",
              "   'tag_id': 'c06bd022-6ded-44a5-8d90-f17685bb85a1',\n",
              "   'end': 833,\n",
              "   'start': 823,\n",
              "   'example_id': '18c2f619-f102-452f-ab81-d26f7e283ffe',\n",
              "   'tag_name': 'Medicine',\n",
              "   'value': 'loperamide',\n",
              "   'correct': None,\n",
              "   'human_annotations': [{'timestamp': '2020-03-21T00:26:12.759000Z',\n",
              "     'annotator_id': 1,\n",
              "     'tagged_token_id': '98968e14-6756-4174-9d3d-7abd58b3aa34',\n",
              "     'name': 'Ashpat123',\n",
              "     'reason': 'exploration'}],\n",
              "   'model_annotations': []},\n",
              "  {'id': 'a0a03c7b-cfad-41ee-9f5c-f8a802475994',\n",
              "   'tag_id': '03eb3e50-d4d8-4261-a60b-fa5aee5deb4a',\n",
              "   'end': 853,\n",
              "   'start': 852,\n",
              "   'example_id': '18c2f619-f102-452f-ab81-d26f7e283ffe',\n",
              "   'tag_name': 'MedicalCondition',\n",
              "   'value': ' ',\n",
              "   'correct': None,\n",
              "   'human_annotations': [],\n",
              "   'model_annotations': []},\n",
              "  {'id': 'bfbddfd4-38aa-43a7-9366-24c95829ac8c',\n",
              "   'tag_id': '03eb3e50-d4d8-4261-a60b-fa5aee5deb4a',\n",
              "   'end': 469,\n",
              "   'start': 461,\n",
              "   'example_id': '18c2f619-f102-452f-ab81-d26f7e283ffe',\n",
              "   'tag_name': 'MedicalCondition',\n",
              "   'value': 'diarrhea',\n",
              "   'correct': None,\n",
              "   'human_annotations': [{'timestamp': '2020-03-21T00:25:06.921000Z',\n",
              "     'annotator_id': 1,\n",
              "     'tagged_token_id': 'bfbddfd4-38aa-43a7-9366-24c95829ac8c',\n",
              "     'name': 'Ashpat123',\n",
              "     'reason': 'exploration'}],\n",
              "   'model_annotations': []},\n",
              "  {'id': 'd7d68c18-0d8e-4547-a2fa-81fdcaf3080e',\n",
              "   'tag_id': '03eb3e50-d4d8-4261-a60b-fa5aee5deb4a',\n",
              "   'end': 543,\n",
              "   'start': 535,\n",
              "   'example_id': '18c2f619-f102-452f-ab81-d26f7e283ffe',\n",
              "   'tag_name': 'MedicalCondition',\n",
              "   'value': 'diarrhea',\n",
              "   'correct': None,\n",
              "   'human_annotations': [{'timestamp': '2020-03-21T00:25:12.203000Z',\n",
              "     'annotator_id': 1,\n",
              "     'tagged_token_id': 'd7d68c18-0d8e-4547-a2fa-81fdcaf3080e',\n",
              "     'name': 'Ashpat123',\n",
              "     'reason': 'exploration'}],\n",
              "   'model_annotations': []},\n",
              "  {'id': 'ee956220-42a4-4a91-b9f0-75019c4f5dd9',\n",
              "   'tag_id': 'c06bd022-6ded-44a5-8d90-f17685bb85a1',\n",
              "   'end': 704,\n",
              "   'start': 692,\n",
              "   'example_id': '18c2f619-f102-452f-ab81-d26f7e283ffe',\n",
              "   'tag_name': 'Medicine',\n",
              "   'value': 'Racecadotril',\n",
              "   'correct': None,\n",
              "   'human_annotations': [{'timestamp': '2020-03-21T00:25:56.503000Z',\n",
              "     'annotator_id': 1,\n",
              "     'tagged_token_id': 'ee956220-42a4-4a91-b9f0-75019c4f5dd9',\n",
              "     'name': 'Ashpat123',\n",
              "     'reason': 'exploration'}],\n",
              "   'model_annotations': []},\n",
              "  {'id': 'f04a6b7e-8904-405c-9301-e4543238b7a5',\n",
              "   'tag_id': '03eb3e50-d4d8-4261-a60b-fa5aee5deb4a',\n",
              "   'end': 571,\n",
              "   'start': 563,\n",
              "   'example_id': '18c2f619-f102-452f-ab81-d26f7e283ffe',\n",
              "   'tag_name': 'MedicalCondition',\n",
              "   'value': 'diarrhea',\n",
              "   'correct': None,\n",
              "   'human_annotations': [{'timestamp': '2020-03-21T00:25:18.043000Z',\n",
              "     'annotator_id': 1,\n",
              "     'tagged_token_id': 'f04a6b7e-8904-405c-9301-e4543238b7a5',\n",
              "     'name': 'Ashpat123',\n",
              "     'reason': 'exploration'}],\n",
              "   'model_annotations': []}],\n",
              " 'classifications': []}"
            ]
          },
          "metadata": {},
          "execution_count": 11
        }
      ]
    },
    {
      "cell_type": "code",
      "source": [
        "data['examples'][0].keys()"
      ],
      "metadata": {
        "colab": {
          "base_uri": "https://localhost:8080/"
        },
        "id": "j5W2MfKaN2lK",
        "outputId": "35c10223-15ec-4659-cc9b-d52b4f50e6a6"
      },
      "execution_count": 12,
      "outputs": [
        {
          "output_type": "execute_result",
          "data": {
            "text/plain": [
              "dict_keys(['id', 'content', 'metadata', 'annotations', 'classifications'])"
            ]
          },
          "metadata": {},
          "execution_count": 12
        }
      ]
    },
    {
      "cell_type": "code",
      "source": [
        "data['examples'][0]['content']"
      ],
      "metadata": {
        "colab": {
          "base_uri": "https://localhost:8080/",
          "height": 105
        },
        "id": "nOLkrV2uN6ao",
        "outputId": "71b36f41-d20c-4806-ff4d-e98b74509500"
      },
      "execution_count": 14,
      "outputs": [
        {
          "output_type": "execute_result",
          "data": {
            "text/plain": [
              "\"While bismuth compounds (Pepto-Bismol) decreased the number of bowel movements in those with travelers' diarrhea, they do not decrease the length of illness.[91] Anti-motility agents like loperamide are also effective at reducing the number of stools but not the duration of disease.[8] These agents should be used only if bloody diarrhea is not present.[92]\\n\\nDiosmectite, a natural aluminomagnesium silicate clay, is effective in alleviating symptoms of acute diarrhea in children,[93] and also has some effects in chronic functional diarrhea, radiation-induced diarrhea, and chemotherapy-induced diarrhea.[45] Another absorbent agent used for the treatment of mild diarrhea is kaopectate.\\n\\nRacecadotril an antisecretory medication may be used to treat diarrhea in children and adults.[86] It has better tolerability than loperamide, as it causes less constipation and flatulence.[94]\""
            ],
            "application/vnd.google.colaboratory.intrinsic+json": {
              "type": "string"
            }
          },
          "metadata": {},
          "execution_count": 14
        }
      ]
    },
    {
      "cell_type": "code",
      "source": [
        "data['examples'][0]['annotations'][0]"
      ],
      "metadata": {
        "colab": {
          "base_uri": "https://localhost:8080/"
        },
        "id": "wk1Gps4iN-J7",
        "outputId": "8b3072ea-412c-40af-d04f-9702ac6f2e25"
      },
      "execution_count": 15,
      "outputs": [
        {
          "output_type": "execute_result",
          "data": {
            "text/plain": [
              "{'id': '0825a1bf-6a6e-4fa2-be77-8d104701eaed',\n",
              " 'tag_id': 'c06bd022-6ded-44a5-8d90-f17685bb85a1',\n",
              " 'end': 371,\n",
              " 'start': 360,\n",
              " 'example_id': '18c2f619-f102-452f-ab81-d26f7e283ffe',\n",
              " 'tag_name': 'Medicine',\n",
              " 'value': 'Diosmectite',\n",
              " 'correct': None,\n",
              " 'human_annotations': [{'timestamp': '2020-03-21T00:24:32.098000Z',\n",
              "   'annotator_id': 1,\n",
              "   'tagged_token_id': '0825a1bf-6a6e-4fa2-be77-8d104701eaed',\n",
              "   'name': 'Ashpat123',\n",
              "   'reason': 'exploration'}],\n",
              " 'model_annotations': []}"
            ]
          },
          "metadata": {},
          "execution_count": 15
        }
      ]
    },
    {
      "cell_type": "code",
      "source": [
        "training_data = []\n",
        "for example in data['examples']:\n",
        "  temp_dict = {}\n",
        "  temp_dict['text'] = example['content']\n",
        "  temp_dict['entities'] = []\n",
        "  for annotation in example['annotations']:\n",
        "    start = annotation['start']\n",
        "    end = annotation['end']\n",
        "    label = annotation['tag_name'].upper()\n",
        "    temp_dict['entities'].append((start, end, label))\n",
        "  training_data.append(temp_dict)\n",
        "\n",
        "print(training_data[0])"
      ],
      "metadata": {
        "colab": {
          "base_uri": "https://localhost:8080/"
        },
        "id": "Uphjnr5KOIhs",
        "outputId": "8a0b5f6f-edb4-4151-ef20-022e1abba251"
      },
      "execution_count": 16,
      "outputs": [
        {
          "output_type": "stream",
          "name": "stdout",
          "text": [
            "{'text': \"While bismuth compounds (Pepto-Bismol) decreased the number of bowel movements in those with travelers' diarrhea, they do not decrease the length of illness.[91] Anti-motility agents like loperamide are also effective at reducing the number of stools but not the duration of disease.[8] These agents should be used only if bloody diarrhea is not present.[92]\\n\\nDiosmectite, a natural aluminomagnesium silicate clay, is effective in alleviating symptoms of acute diarrhea in children,[93] and also has some effects in chronic functional diarrhea, radiation-induced diarrhea, and chemotherapy-induced diarrhea.[45] Another absorbent agent used for the treatment of mild diarrhea is kaopectate.\\n\\nRacecadotril an antisecretory medication may be used to treat diarrhea in children and adults.[86] It has better tolerability than loperamide, as it causes less constipation and flatulence.[94]\", 'entities': [(360, 371, 'MEDICINE'), (383, 408, 'MEDICINE'), (104, 112, 'MEDICALCONDITION'), (679, 689, 'MEDICINE'), (6, 23, 'MEDICINE'), (25, 37, 'MEDICINE'), (461, 470, 'MEDICALCONDITION'), (577, 589, 'MEDICINE'), (853, 865, 'MEDICALCONDITION'), (188, 198, 'MEDICINE'), (754, 762, 'MEDICALCONDITION'), (870, 880, 'MEDICALCONDITION'), (823, 833, 'MEDICINE'), (852, 853, 'MEDICALCONDITION'), (461, 469, 'MEDICALCONDITION'), (535, 543, 'MEDICALCONDITION'), (692, 704, 'MEDICINE'), (563, 571, 'MEDICALCONDITION')]}\n"
          ]
        }
      ]
    },
    {
      "cell_type": "code",
      "source": [
        "training_data[0]['text']"
      ],
      "metadata": {
        "colab": {
          "base_uri": "https://localhost:8080/",
          "height": 105
        },
        "id": "wh_IYfhUOP6m",
        "outputId": "b83605c8-60b0-4a14-b7b8-db1341862440"
      },
      "execution_count": 17,
      "outputs": [
        {
          "output_type": "execute_result",
          "data": {
            "text/plain": [
              "\"While bismuth compounds (Pepto-Bismol) decreased the number of bowel movements in those with travelers' diarrhea, they do not decrease the length of illness.[91] Anti-motility agents like loperamide are also effective at reducing the number of stools but not the duration of disease.[8] These agents should be used only if bloody diarrhea is not present.[92]\\n\\nDiosmectite, a natural aluminomagnesium silicate clay, is effective in alleviating symptoms of acute diarrhea in children,[93] and also has some effects in chronic functional diarrhea, radiation-induced diarrhea, and chemotherapy-induced diarrhea.[45] Another absorbent agent used for the treatment of mild diarrhea is kaopectate.\\n\\nRacecadotril an antisecretory medication may be used to treat diarrhea in children and adults.[86] It has better tolerability than loperamide, as it causes less constipation and flatulence.[94]\""
            ],
            "application/vnd.google.colaboratory.intrinsic+json": {
              "type": "string"
            }
          },
          "metadata": {},
          "execution_count": 17
        }
      ]
    },
    {
      "cell_type": "code",
      "source": [
        "training_data[0]['entities']"
      ],
      "metadata": {
        "colab": {
          "base_uri": "https://localhost:8080/"
        },
        "id": "epF1DSw7OToP",
        "outputId": "a14659e0-68d6-425c-ab4b-dbfa27cd7e3f"
      },
      "execution_count": 18,
      "outputs": [
        {
          "output_type": "execute_result",
          "data": {
            "text/plain": [
              "[(360, 371, 'MEDICINE'),\n",
              " (383, 408, 'MEDICINE'),\n",
              " (104, 112, 'MEDICALCONDITION'),\n",
              " (679, 689, 'MEDICINE'),\n",
              " (6, 23, 'MEDICINE'),\n",
              " (25, 37, 'MEDICINE'),\n",
              " (461, 470, 'MEDICALCONDITION'),\n",
              " (577, 589, 'MEDICINE'),\n",
              " (853, 865, 'MEDICALCONDITION'),\n",
              " (188, 198, 'MEDICINE'),\n",
              " (754, 762, 'MEDICALCONDITION'),\n",
              " (870, 880, 'MEDICALCONDITION'),\n",
              " (823, 833, 'MEDICINE'),\n",
              " (852, 853, 'MEDICALCONDITION'),\n",
              " (461, 469, 'MEDICALCONDITION'),\n",
              " (535, 543, 'MEDICALCONDITION'),\n",
              " (692, 704, 'MEDICINE'),\n",
              " (563, 571, 'MEDICALCONDITION')]"
            ]
          },
          "metadata": {},
          "execution_count": 18
        }
      ]
    },
    {
      "cell_type": "code",
      "source": [
        "training_data[0]['text'][360:371]"
      ],
      "metadata": {
        "colab": {
          "base_uri": "https://localhost:8080/",
          "height": 36
        },
        "id": "9d5qyULyOhsy",
        "outputId": "a2284724-e710-41ba-a0f4-62bf1a7c1a29"
      },
      "execution_count": 19,
      "outputs": [
        {
          "output_type": "execute_result",
          "data": {
            "text/plain": [
              "'Diosmectite'"
            ],
            "application/vnd.google.colaboratory.intrinsic+json": {
              "type": "string"
            }
          },
          "metadata": {},
          "execution_count": 19
        }
      ]
    },
    {
      "cell_type": "code",
      "source": [
        "from spacy.tokens import DocBin\n",
        "from tqdm import tqdm\n",
        "\n",
        "nlp = spacy.blank(\"en\")\n",
        "doc_bin = DocBin()"
      ],
      "metadata": {
        "id": "35yo7mCIOlFd"
      },
      "execution_count": 21,
      "outputs": []
    },
    {
      "cell_type": "code",
      "source": [
        "from spacy.util import filter_spans\n",
        "\n",
        "for training_example  in tqdm(training_data):\n",
        "    text = training_example['text']\n",
        "    labels = training_example['entities']\n",
        "    doc = nlp.make_doc(text)\n",
        "    ents = []\n",
        "    for start, end, label in labels:\n",
        "        span = doc.char_span(start, end, label=label, alignment_mode=\"contract\")\n",
        "        if span is None:\n",
        "            print(\"Skipping entity\")\n",
        "        else:\n",
        "            ents.append(span)\n",
        "    filtered_ents = filter_spans(ents)\n",
        "    doc.ents = filtered_ents\n",
        "    doc_bin.add(doc)\n",
        "\n",
        "doc_bin.to_disk(\"train.spacy\")"
      ],
      "metadata": {
        "colab": {
          "base_uri": "https://localhost:8080/"
        },
        "id": "LEp6ExCKOqMt",
        "outputId": "94f633f6-cc7b-440e-eb8f-f0e274412353"
      },
      "execution_count": 22,
      "outputs": [
        {
          "output_type": "stream",
          "name": "stderr",
          "text": [
            "100%|██████████| 31/31 [00:00<00:00, 486.57it/s]"
          ]
        },
        {
          "output_type": "stream",
          "name": "stdout",
          "text": [
            "Skipping entity\n",
            "Skipping entity\n",
            "Skipping entity\n",
            "Skipping entity\n",
            "Skipping entity\n",
            "Skipping entity\n",
            "Skipping entity\n",
            "Skipping entity\n",
            "Skipping entity\n",
            "Skipping entity\n",
            "Skipping entity\n",
            "Skipping entity\n",
            "Skipping entity\n",
            "Skipping entity\n",
            "Skipping entity\n",
            "Skipping entity\n"
          ]
        },
        {
          "output_type": "stream",
          "name": "stderr",
          "text": [
            "\n"
          ]
        }
      ]
    },
    {
      "cell_type": "code",
      "source": [
        "!python -m spacy init fill-config base_config.cfg config.cfg"
      ],
      "metadata": {
        "colab": {
          "base_uri": "https://localhost:8080/"
        },
        "id": "KZ4Dm9g0Ow82",
        "outputId": "03bf497e-9eca-4871-be49-8da67e554344"
      },
      "execution_count": 24,
      "outputs": [
        {
          "output_type": "stream",
          "name": "stdout",
          "text": [
            "\u001b[38;5;2m✔ Auto-filled config with all values\u001b[0m\n",
            "\u001b[38;5;2m✔ Saved config\u001b[0m\n",
            "config.cfg\n",
            "You can now add your data and train your pipeline:\n",
            "python -m spacy train config.cfg --paths.train ./train.spacy --paths.dev ./dev.spacy\n"
          ]
        }
      ]
    },
    {
      "cell_type": "code",
      "source": [
        "!python -m spacy train config.cfg --output ./ --paths.train ./train.spacy --paths.dev ./train.spacy"
      ],
      "metadata": {
        "colab": {
          "base_uri": "https://localhost:8080/"
        },
        "id": "70QMrM2DQyG_",
        "outputId": "1f6f5ae4-663c-47e1-8f15-3bb91b7dc4b6"
      },
      "execution_count": 25,
      "outputs": [
        {
          "output_type": "stream",
          "name": "stdout",
          "text": [
            "\u001b[38;5;4mℹ Saving to output directory: .\u001b[0m\n",
            "\u001b[38;5;4mℹ Using CPU\u001b[0m\n",
            "\u001b[38;5;4mℹ To switch to GPU 0, use the option: --gpu-id 0\u001b[0m\n",
            "\u001b[1m\n",
            "=========================== Initializing pipeline ===========================\u001b[0m\n",
            "\u001b[38;5;2m✔ Initialized pipeline\u001b[0m\n",
            "\u001b[1m\n",
            "============================= Training pipeline =============================\u001b[0m\n",
            "\u001b[38;5;4mℹ Pipeline: ['tok2vec', 'ner']\u001b[0m\n",
            "\u001b[38;5;4mℹ Initial learn rate: 0.001\u001b[0m\n",
            "E    #       LOSS TOK2VEC  LOSS NER  ENTS_F  ENTS_P  ENTS_R  SCORE \n",
            "---  ------  ------------  --------  ------  ------  ------  ------\n",
            "  0       0          0.00    153.29    0.29    0.23    0.39    0.00\n",
            "  7     200         86.95   2823.61   80.84   86.88   75.59    0.81\n",
            "\u001b[38;5;2m✔ Saved pipeline to output directory\u001b[0m\n",
            "model-last\n"
          ]
        }
      ]
    },
    {
      "cell_type": "code",
      "source": [
        "nlp_ner = spacy.load(\"model-best\")"
      ],
      "metadata": {
        "id": "j1ff5g83Ro5N"
      },
      "execution_count": 26,
      "outputs": []
    },
    {
      "cell_type": "code",
      "source": [
        "doc = nlp_ner(\"While bismuth compounds (Pepto-Bismol) decreased the number of bowel movements in those with travelers' diarrhea, they do not decrease the length of illness.[91] Anti-motility agents like loperamide are also effective at reducing the number of stools but not the duration of disease.[8] These agents should be used only if bloody diarrhea is not present.\")\n",
        "\n",
        "colors = {\"PATHOGEN\": \"#F67DE3\", \"MEDICINE\": \"#7DF6D9\", \"MEDICALCONDITION\":\"#a6e22d\"}\n",
        "options = {\"colors\": colors}\n",
        "\n",
        "spacy.displacy.render(doc, style=\"ent\", options= options, jupyter=True)"
      ],
      "metadata": {
        "colab": {
          "base_uri": "https://localhost:8080/",
          "height": 87
        },
        "id": "Zd0ukhPPUQ-4",
        "outputId": "81fcb6a4-11db-48ad-8862-da4b5fc9cce2"
      },
      "execution_count": 27,
      "outputs": [
        {
          "output_type": "display_data",
          "data": {
            "text/plain": [
              "<IPython.core.display.HTML object>"
            ],
            "text/html": [
              "<span class=\"tex2jax_ignore\"><div class=\"entities\" style=\"line-height: 2.5; direction: ltr\">While \n",
              "<mark class=\"entity\" style=\"background: #7DF6D9; padding: 0.45em 0.6em; margin: 0 0.25em; line-height: 1; border-radius: 0.35em;\">\n",
              "    bismuth compounds\n",
              "    <span style=\"font-size: 0.8em; font-weight: bold; line-height: 1; border-radius: 0.35em; vertical-align: middle; margin-left: 0.5rem\">MEDICINE</span>\n",
              "</mark>\n",
              " (\n",
              "<mark class=\"entity\" style=\"background: #7DF6D9; padding: 0.45em 0.6em; margin: 0 0.25em; line-height: 1; border-radius: 0.35em;\">\n",
              "    Pepto-\n",
              "    <span style=\"font-size: 0.8em; font-weight: bold; line-height: 1; border-radius: 0.35em; vertical-align: middle; margin-left: 0.5rem\">MEDICINE</span>\n",
              "</mark>\n",
              "Bismol) decreased the number of bowel movements in those with travelers' \n",
              "<mark class=\"entity\" style=\"background: #a6e22d; padding: 0.45em 0.6em; margin: 0 0.25em; line-height: 1; border-radius: 0.35em;\">\n",
              "    diarrhea\n",
              "    <span style=\"font-size: 0.8em; font-weight: bold; line-height: 1; border-radius: 0.35em; vertical-align: middle; margin-left: 0.5rem\">MEDICALCONDITION</span>\n",
              "</mark>\n",
              ", they do not decrease the length of illness.[91] Anti-motility agents like \n",
              "<mark class=\"entity\" style=\"background: #7DF6D9; padding: 0.45em 0.6em; margin: 0 0.25em; line-height: 1; border-radius: 0.35em;\">\n",
              "    loperamide\n",
              "    <span style=\"font-size: 0.8em; font-weight: bold; line-height: 1; border-radius: 0.35em; vertical-align: middle; margin-left: 0.5rem\">MEDICINE</span>\n",
              "</mark>\n",
              " are also effective at reducing the number of stools but not the duration of disease.[8] These agents should be used only if bloody diarrhea is not present.</div></span>"
            ]
          },
          "metadata": {}
        }
      ]
    }
  ]
}